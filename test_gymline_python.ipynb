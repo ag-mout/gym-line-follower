{
 "cells": [
  {
   "cell_type": "code",
   "execution_count": null,
   "metadata": {},
   "outputs": [],
   "source": [
    "#test gym_line_follower package\n",
    "import gym_line_follower\n",
    "import gymnasium as gym\n",
    "from gymnasium.wrappers.rendering import RenderCollection\n",
    "import matplotlib.pyplot as plt\n",
    "# from stable_baselines3.common.env_checker import check_env\n",
    "# import imageio\n",
    "\n",
    "%matplotlib inline"
   ]
  },
  {
   "cell_type": "code",
   "execution_count": null,
   "metadata": {},
   "outputs": [],
   "source": [
    "env = gym.make('LineFollower-v0', gui = True, render_mode = 'rgb_array')\n",
    "env = RenderCollection(env)"
   ]
  },
  {
   "cell_type": "code",
   "execution_count": null,
   "metadata": {},
   "outputs": [],
   "source": [
    "env.reset(seed=123)"
   ]
  },
  {
   "cell_type": "code",
   "execution_count": null,
   "metadata": {},
   "outputs": [],
   "source": [
    "\n",
    "# check_env(env, warn=True, skip_render_check=False)\n",
    "# _ = env.reset()\n",
    "\n",
    "frames = []\n",
    "for i in range(100):\n",
    "    action = env.action_space.sample()\n",
    "    obsv, reward, done, truncated, info = env.step(action)\n",
    "    print(\"Reward: \", reward)\n",
    "    \n",
    "    if done:\n",
    "        break\n",
    "frames = env.render()\n",
    "print(obsv)\n",
    "print(\"Done: \", done)\n",
    "# imageio.mimsave('test.gif', frames)"
   ]
  },
  {
   "cell_type": "code",
   "execution_count": null,
   "metadata": {},
   "outputs": [],
   "source": [
    "#close the environment\n",
    "env.close()"
   ]
  }
 ],
 "metadata": {
  "kernelspec": {
   "display_name": "gym-line-follower-khleedavid",
   "language": "python",
   "name": "python3"
  },
  "language_info": {
   "codemirror_mode": {
    "name": "ipython",
    "version": 3
   },
   "file_extension": ".py",
   "mimetype": "text/x-python",
   "name": "python",
   "nbconvert_exporter": "python",
   "pygments_lexer": "ipython3",
   "version": "3.13.5"
  }
 },
 "nbformat": 4,
 "nbformat_minor": 2
}
